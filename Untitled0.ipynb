{
  "nbformat": 4,
  "nbformat_minor": 0,
  "metadata": {
    "colab": {
      "provenance": []
    },
    "kernelspec": {
      "name": "python3",
      "display_name": "Python 3"
    },
    "language_info": {
      "name": "python"
    }
  },
  "cells": [
    {
      "cell_type": "markdown",
      "source": [],
      "metadata": {
        "id": "YIKFBN9Q8OQB"
      }
    },
    {
      "cell_type": "markdown",
      "source": [],
      "metadata": {
        "id": "KvTzslLF8Xmg"
      }
    },
    {
      "cell_type": "code",
      "source": [
        "#Menghitung berat badan berdasarkan tinggi badan dan Nilai BMI\n",
        "import math\n",
        "\n",
        "#rumus berat\n",
        "def kalkulator_berat_ideal(tinggi_badan, nilai_bmi):\n",
        "    berat_ideal = nilai_bmi * tinggi_badan ** 2\n",
        "    return berat_ideal\n",
        "\n",
        "#input data dari user\n",
        "tinggi_badan = float(input(\"Masukkan tinggi badan Anda dalam meter: \"))\n",
        "nilai_bmi = float(input(\"Masukkan BMI yang diharapkan: \"))\n",
        "\n",
        "#hasil dari tampilan data\n",
        "berat_ideal = kalkulator_berat_ideal(tinggi_badan, nilai_bmi)\n",
        "print(\"Berat badan yang diperlukan Anda adalah: {:.2f} kg\".format(berat_ideal))\n"
      ],
      "metadata": {
        "colab": {
          "base_uri": "https://localhost:8080/"
        },
        "id": "y_kDfIIh8cKC",
        "outputId": "363a2d52-2752-464b-db89-1520c57f065b"
      },
      "execution_count": 1,
      "outputs": [
        {
          "output_type": "stream",
          "name": "stdout",
          "text": [
            "Masukkan tinggi badan Anda dalam meter: 1.6\n",
            "Masukkan BMI yang diharapkan: 20\n",
            "Berat badan yang diperlukan Anda adalah: 51.20 kg\n"
          ]
        }
      ]
    }
  ]
}